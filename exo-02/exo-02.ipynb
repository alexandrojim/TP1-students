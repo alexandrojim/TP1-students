{
 "cells": [
  {
   "attachments": {},
   "cell_type": "markdown",
   "metadata": {},
   "source": [
    "## Markov Random Fields (MRFs) - Edge detection\n",
    "\n",
    "A Markov Random Field is a model used in the context of undirected graphical models. Instead of a sequence of states like in Markov processes, MRFs consider a set of variables (which can be organized, for instance, in a grid-like structure in image processing). The key property of an MRF is that a variable is conditionally independent of all other variables given its neighbors in the graph.\n",
    "\n",
    "### Differences with Markov Processes:\n",
    "\n",
    "- Nature of Model:\n",
    "\n",
    "    Markov processes usually describe the evolution of a system over time.\n",
    "    MRFs model dependencies among variables that might not necessarily have a temporal ordering.\n",
    "\n",
    "- Graph Type:\n",
    "\n",
    "    Markov processes can be visualized with directed graphs (especially for discrete-time Markov chains).\n",
    "    MRFs are represented using undirected graphs.\n",
    "\n",
    "- Dependency:\n",
    "\n",
    "    In Markov processes, the next state's probability depends only on the current state.\n",
    "    In MRFs, a variable's probability distribution might depend on the states of its neighbors.\n",
    "\n",
    "### Application:\n",
    "\n",
    "**Edge Detection:** The boundaries and transitions in an image can be detected using Markov processes by modeling the dependencies between pixels."
   ]
  },
  {
   "cell_type": "code",
   "execution_count": null,
   "metadata": {},
   "outputs": [],
   "source": [
    "################################################################################################\n",
    "# RUNME ONCE: only if the imports in the next cell does not work.\n",
    "# Run this cell once in order to install the dependencies needed for the lab. \n",
    "# After running this cell, remember to restart the kernel and proceed executing the next cells.\n",
    "################################################################################################\n",
    "\n",
    "!pip3 install pillow matplotlib numpy opencv-python"
   ]
  },
  {
   "cell_type": "code",
   "execution_count": null,
   "metadata": {},
   "outputs": [],
   "source": [
    "from PIL import Image\n",
    "import numpy as np\n",
    "import matplotlib.pyplot as plt\n",
    "import cv2"
   ]
  },
  {
   "cell_type": "code",
   "execution_count": null,
   "metadata": {},
   "outputs": [],
   "source": [
    "# Load an image using Pillow and convert to grayscale\n",
    "image = Image.open('lena_color.png').convert('L')\n",
    "image = np.array(image)"
   ]
  },
  {
   "cell_type": "code",
   "execution_count": null,
   "metadata": {},
   "outputs": [],
   "source": [
    "laplacian = cv2.Laplacian(image, cv2.CV_64F)"
   ]
  },
  {
   "cell_type": "code",
   "execution_count": null,
   "metadata": {},
   "outputs": [],
   "source": [
    "# Perform edge detection using Canny filter\n",
    "edges_canny = cv2.Canny(image, 100, 200)"
   ]
  },
  {
   "attachments": {},
   "cell_type": "markdown",
   "metadata": {},
   "source": [
    "### Markov Random Field Edge Detection Algorithm\n",
    "\n",
    "Implement the following algorithm \n",
    "\n",
    "**Input:**\n",
    "- `img`: Grayscale image of dimensions H x W\n",
    "- `percentile`: Percentile for dynamic thresholding (default: 90)\n",
    "- `extended_neighborhood`: Boolean indicating if diagonal neighbors should be considered (default: True)\n",
    "- `gradient_weight`: Weight for the gradient term in the energy calculation (default: 0.5)\n",
    "\n",
    "**Output:**\n",
    "- `edges`: Binary image indicating detected edges\n",
    "\n",
    "**Procedure:**\n",
    "\n",
    "1. Initialize `energy` matrix of size H x W with zeros.\n",
    "2. Define a helper function `gradient`:\n",
    "    - Input: `img`, `i`, `j`\n",
    "    - Computes x-gradient as difference between `img[i+1, j]` and `img[i, j]`.\n",
    "    - Computes y-gradient as difference between `img[i, j+1]` and `img[i, j]`.\n",
    "    - Returns the magnitude of the gradient.\n",
    "3. For each pixel `(i, j)` in `img`:\n",
    "    - Calculate `basic_energy` as the sum of absolute differences between current pixel and its right and bottom neighbors.\n",
    "    - If `extended_neighborhood` is True, add to `basic_energy` the sum of absolute differences between current pixel and its diagonal neighbors.\n",
    "    - Calculate `grad_energy` using the `gradient` function.\n",
    "    - Compute `combined_energy` as a weighted sum of `basic_energy` and `grad_energy` using the `gradient_weight`.\n",
    "    - Set `energy[i, j]` to `combined_energy`.\n",
    "4. Compute the dynamic threshold as the `percentile` of all values in `energy`.\n",
    "5. Threshold `energy` to create the `edges` image: pixels in `energy` greater than the threshold are set to 255 (white) and others are set to 0 (black).\n",
    "6. Return `edges`."
   ]
  },
  {
   "cell_type": "code",
   "execution_count": null,
   "metadata": {},
   "outputs": [],
   "source": [
    "def mrf_edge_detection(img, percentile=91, extended_neighborhood=True, gradient_weight=0.5):\n",
    "    \n",
    "    # COMPLETE based on the algorithm defined above\n",
    "\n",
    "\n",
    "\n",
    "\n",
    "\n",
    "\n",
    "\n",
    "    return edges"
   ]
  },
  {
   "cell_type": "code",
   "execution_count": null,
   "metadata": {},
   "outputs": [],
   "source": [
    "edges_mrf = mrf_edge_detection(image)\n",
    "\n",
    "# Display images\n",
    "fig, axarr = plt.subplots(1, 4, figsize=(15, 15))\n",
    "\n",
    "axarr[0].imshow(image, cmap='gray')\n",
    "axarr[0].set_title('Original Image')\n",
    "axarr[0].axis('off')\n",
    "\n",
    "axarr[1].imshow(laplacian, cmap='gray')\n",
    "axarr[1].set_title('Laplacian Filter')\n",
    "axarr[1].axis('off')\n",
    "\n",
    "axarr[2].imshow(edges_canny, cmap='gray')\n",
    "axarr[2].set_title('Canny Edge Detection')\n",
    "axarr[2].axis('off')\n",
    "\n",
    "axarr[3].imshow(edges_mrf, cmap='gray')\n",
    "axarr[3].set_title('MRF Edge Detection')\n",
    "axarr[3].axis('off')\n",
    "\n",
    "plt.tight_layout()\n",
    "plt.show()"
   ]
  },
  {
   "attachments": {},
   "cell_type": "markdown",
   "metadata": {},
   "source": [
    "### Question:\n",
    "\n",
    "Comment about the visual differences of the edge detection algorithms implemented above. Modify the percentil in the `mrf_edge_detection` function and describe its impact in the output image."
   ]
  }
 ],
 "metadata": {
  "kernelspec": {
   "display_name": "Python 3",
   "language": "python",
   "name": "python3"
  },
  "language_info": {
   "codemirror_mode": {
    "name": "ipython",
    "version": 3
   },
   "file_extension": ".py",
   "mimetype": "text/x-python",
   "name": "python",
   "nbconvert_exporter": "python",
   "pygments_lexer": "ipython3",
   "version": "3.9.6"
  },
  "orig_nbformat": 4
 },
 "nbformat": 4,
 "nbformat_minor": 2
}
