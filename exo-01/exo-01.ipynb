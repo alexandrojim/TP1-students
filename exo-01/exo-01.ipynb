{
 "cells": [
  {
   "attachments": {},
   "cell_type": "markdown",
   "metadata": {},
   "source": [
    "## Understanding Markov Processes\n",
    "\n",
    "### Markov Processes:\n",
    "A Markov process (often referring specifically to a Markov chain when talking about discrete-time processes) is a mathematical model that undergoes transitions from one state to another within a finite or countable number of possible states. The key property of a Markov process is that the probability of transitioning to any particular state is dependent solely on the current state and time elapsed, and not on the sequence of states that preceded it.\n",
    "\n",
    "Properties:\n",
    "\n",
    "- Memorylessness: The future state only depends on the current state and not the sequence of states that led to the current state.\n",
    "- Transition Probabilities: In a discrete-time Markov chain, these probabilities can be represented using a matrix, where the entry at row *i* and column *j* represents the probability of transitioning from state *i* to state *j*.\n",
    "\n",
    "### The problem:\n",
    "We want to study the movement of a customer over a period of time among the different restaurants of a famous chain in town. We will use Markov processes to model the custumer's behavior.\n",
    "\n",
    "Consider there are 3 restaurants in the town part of the chain: Burger Joint, Pizza Place, and Sushi Bar. Over time, based on the preferences and options, a customer might decide to switch restaurants or stay at the current one."
   ]
  },
  {
   "cell_type": "code",
   "execution_count": null,
   "metadata": {},
   "outputs": [],
   "source": [
    "################################################################################################\n",
    "# RUNME ONCE: only if the imports in the next cell does not work.\n",
    "# Run this cell once in order to install the dependencies needed for the lab. \n",
    "# After running this cell, remember to restart the kernel and proceed executing the next cells.\n",
    "################################################################################################\n",
    "\n",
    "!pip3 install matplotlib numpy"
   ]
  },
  {
   "cell_type": "code",
   "execution_count": null,
   "metadata": {},
   "outputs": [],
   "source": [
    "import numpy as np\n",
    "import matplotlib.pyplot as plt"
   ]
  },
  {
   "attachments": {},
   "cell_type": "markdown",
   "metadata": {},
   "source": [
    "### Defining the Markov Process:\n",
    "- Initially, assume equal probability to start from any restaurant.\n",
    "- Consider the following probabilities to change restaurants:\n",
    "        \n",
    "        - From Burger Joint to Pizza Place: 20%\n",
    "        - From Burger Joint to Sushi Bar: 20%\n",
    "        - From Pizza Place to Burger Joint: 10%\n",
    "        - From Pizza Place to Sushi Bar: 20%\n",
    "        - From Sushi Bar to Burger Joint: 20%\n",
    "        - From Sushi Bar to Pizza Place: 30%\n"
   ]
  },
  {
   "cell_type": "code",
   "execution_count": null,
   "metadata": {},
   "outputs": [],
   "source": [
    "# State space\n",
    "restaurants = # COMPLETE: define the state space as a list.\n",
    "\n",
    "# Initial probabilities for states\n",
    "initial_probabilities = # COMPLETE: assuming an equal chance to start from any restaurant.\n",
    "\n",
    "# Transition matrix\n",
    "# Rows: current state, Columns: next state\n",
    "transition_matrix = # COMPLETE: transition matrix based on the probabilities stated above.\n"
   ]
  },
  {
   "attachments": {},
   "cell_type": "markdown",
   "metadata": {},
   "source": [
    "### Simulating the Markov Process:"
   ]
  },
  {
   "cell_type": "code",
   "execution_count": null,
   "metadata": {},
   "outputs": [],
   "source": [
    "def simulate_restaurant_visits(days, initial_probabilities, transition_matrix):\n",
    "    current_restaurant = np.random.choice(restaurants, p=initial_probabilities)\n",
    "    visit_sequence = [current_restaurant]\n",
    "\n",
    "    for day in range(days - 1):\n",
    "        # COMPLETE:\n",
    "        # Implement the Markov process logic: Based on the current restaurant, move to the next one according the transition matrix defined before\n",
    "        # Store the next restaurant in the variable next_restaurant\n",
    "        # Hint: check the function numpy.random.choice()\n",
    "\n",
    "        \n",
    "\n",
    "\n",
    "        \n",
    "\n",
    "        visit_sequence.append(next_restaurant)\n",
    "        current_restaurant = next_restaurant\n",
    "\n",
    "    return visit_sequence\n",
    "\n",
    "# Simulating restaurant visits for 15 days\n",
    "days = 15\n",
    "visit_sequence = simulate_restaurant_visits(days, initial_probabilities, transition_matrix)\n",
    "print(visit_sequence)"
   ]
  },
  {
   "attachments": {},
   "cell_type": "markdown",
   "metadata": {},
   "source": [
    "### Visualize the Markov Process:"
   ]
  },
  {
   "cell_type": "code",
   "execution_count": null,
   "metadata": {},
   "outputs": [],
   "source": [
    "def plot_restaurant_simulation(visit_sequence):\n",
    "    days = len(visit_sequence)\n",
    "    day_numbers = list(range(days))\n",
    "    \n",
    "    plt.figure(figsize=(12, 7))\n",
    "    plt.plot(day_numbers, visit_sequence, '-o', markersize=10)\n",
    "    plt.yticks(restaurants)\n",
    "    plt.xlabel('Day')\n",
    "    plt.ylabel('Restaurant Visited')\n",
    "    plt.title('Restaurant Visit Simulation Using Markov Process')\n",
    "    plt.grid(True, which='both', linestyle='--', linewidth=0.5)\n",
    "    plt.show()\n",
    "\n",
    "plot_restaurant_simulation(visit_sequence)"
   ]
  },
  {
   "attachments": {},
   "cell_type": "markdown",
   "metadata": {},
   "source": [
    "### Question:\n",
    "\n",
    "Modify the values of the transition matrix to study how different probabilities influence the custumer's choices. Comment about your observations."
   ]
  }
 ],
 "metadata": {
  "language_info": {
   "name": "python"
  },
  "orig_nbformat": 4
 },
 "nbformat": 4,
 "nbformat_minor": 2
}
